{
 "cells": [
  {
   "cell_type": "code",
   "execution_count": 10,
   "metadata": {},
   "outputs": [],
   "source": [
    "from langchain.memory import ConversationSummaryBufferMemory\n",
    "from langchain.chat_models import ChatOpenAI\n",
    "\n",
    "\n",
    "\n",
    "\n",
    "llm = ChatOpenAI(temperature=0.1)\n",
    "\n",
    "memory = ConversationSummaryBufferMemory(\n",
    "    llm = llm,\n",
    "    max_token_limit=150,\n",
    "    return_messages=True\n",
    "    )\n",
    "\n",
    "def add_message(input, output):\n",
    "    memory.save_context({\"input\": input}, {\"output\": output})\n",
    "\n",
    "def get_history():\n",
    "    print(memory.load_memory_variables({}))"
   ]
  },
  {
   "cell_type": "code",
   "execution_count": 11,
   "metadata": {},
   "outputs": [],
   "source": [
    "add_message(\"안녕하세요. 저는 진우라고 해요. 저는 지금 일본에 살고 있어요.\", \"일본은 어떤가요?\")\n",
    "add_message(\"오늘은 날씨가 좋네요. 비도오고 바람도 쌔서 집에서 코딩하기 좋아요.\", \"비가 오는 날씨를 좋아하시는군요. 밖에 나갈일이 없는 날은 오히려 좋죠\")"
   ]
  },
  {
   "cell_type": "code",
   "execution_count": 12,
   "metadata": {},
   "outputs": [
    {
     "name": "stdout",
     "output_type": "stream",
     "text": [
      "{'history': [SystemMessage(content='The human greets the AI in Korean and introduces themselves as Jinwoo, mentioning that they currently live in Japan.'), AIMessage(content='일본은 어떤가요?'), HumanMessage(content='오늘은 날씨가 좋네요. 비도오고 바람도 쌔서 집에서 코딩하기 좋아요.'), AIMessage(content='비가 오는 날씨를 좋아하시는군요. 밖에 나갈일이 없는 날은 오히려 좋죠')]}\n"
     ]
    }
   ],
   "source": [
    "get_history()"
   ]
  },
  {
   "cell_type": "code",
   "execution_count": 13,
   "metadata": {},
   "outputs": [
    {
     "name": "stdout",
     "output_type": "stream",
     "text": [
      "{'history': [SystemMessage(content='The human greets the AI in Korean and introduces themselves as Jinwoo, mentioning that they currently live in Japan. The AI asks about Japan, and Jinwoo responds that the weather is good today, with rain and strong winds making it a good day to code at home.'), AIMessage(content='비가 오는 날씨를 좋아하시는군요. 밖에 나갈일이 없는 날은 오히려 좋죠'), HumanMessage(content='How far is the moon from the earth?'), AIMessage(content='The average distance from the Earth to the Moon is 384,400 kilometers.'), HumanMessage(content='What is the capital of France?'), AIMessage(content='The capital of France is Paris.'), HumanMessage(content='What is the capital of Italy?'), AIMessage(content='The capital of Italy is Rome.')]}\n"
     ]
    }
   ],
   "source": [
    "add_message(\"How far is the moon from the earth?\", \"The average distance from the Earth to the Moon is 384,400 kilometers.\")\n",
    "add_message(\"What is the capital of France?\", \"The capital of France is Paris.\")\n",
    "add_message(\"What is the capital of Italy?\", \"The capital of Italy is Rome.\")\n",
    "get_history()\n"
   ]
  },
  {
   "cell_type": "code",
   "execution_count": 14,
   "metadata": {},
   "outputs": [
    {
     "name": "stdout",
     "output_type": "stream",
     "text": [
      "{'history': [SystemMessage(content=\"The human greets the AI in Korean and introduces themselves as Jinwoo, mentioning that they currently live in Japan. The AI asks about Japan, and Jinwoo responds that the weather is good today, with rain and strong winds making it a good day to code at home. The AI comments that Jinwoo seems to like rainy weather, mentioning that it's nice to stay indoors on days like this.\"), HumanMessage(content='How far is the moon from the earth?'), AIMessage(content='The average distance from the Earth to the Moon is 384,400 kilometers.'), HumanMessage(content='What is the capital of France?'), AIMessage(content='The capital of France is Paris.'), HumanMessage(content='What is the capital of Italy?'), AIMessage(content='The capital of Italy is Rome.'), HumanMessage(content='What is temperature of the sun?'), AIMessage(content='The temperature of the sun is about 5,500 degrees Celsius.')]}\n"
     ]
    }
   ],
   "source": [
    "add_message(\"What is temperature of the sun?\", \"The temperature of the sun is about 5,500 degrees Celsius.\")\n",
    "get_history()"
   ]
  },
  {
   "cell_type": "code",
   "execution_count": 15,
   "metadata": {},
   "outputs": [
    {
     "name": "stdout",
     "output_type": "stream",
     "text": [
      "{'history': [SystemMessage(content=\"The human greets the AI in Korean and introduces themselves as Jinwoo, mentioning that they currently live in Japan. The AI asks about Japan, and Jinwoo responds that the weather is good today, with rain and strong winds making it a good day to code at home. The AI comments that Jinwoo seems to like rainy weather, mentioning that it's nice to stay indoors on days like this. The human asks how far the moon is from the earth.\"), AIMessage(content='The average distance from the Earth to the Moon is 384,400 kilometers.'), HumanMessage(content='What is the capital of France?'), AIMessage(content='The capital of France is Paris.'), HumanMessage(content='What is the capital of Italy?'), AIMessage(content='The capital of Italy is Rome.'), HumanMessage(content='What is temperature of the sun?'), AIMessage(content='The temperature of the sun is about 5,500 degrees Celsius.'), HumanMessage(content='How far is the sun from the earth?'), AIMessage(content='The average distance from the Earth to the Sun is 149.6 million kilometers.')]}\n"
     ]
    }
   ],
   "source": [
    "add_message(\"How far is the sun from the earth?\", \"The average distance from the Earth to the Sun is 149.6 million kilometers.\")\n",
    "get_history()"
   ]
  }
 ],
 "metadata": {
  "kernelspec": {
   "display_name": "venv",
   "language": "python",
   "name": "python3"
  },
  "language_info": {
   "codemirror_mode": {
    "name": "ipython",
    "version": 3
   },
   "file_extension": ".py",
   "mimetype": "text/x-python",
   "name": "python",
   "nbconvert_exporter": "python",
   "pygments_lexer": "ipython3",
   "version": "3.11.6"
  }
 },
 "nbformat": 4,
 "nbformat_minor": 2
}
