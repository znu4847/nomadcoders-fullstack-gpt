{
 "cells": [
  {
   "cell_type": "code",
   "execution_count": 2,
   "metadata": {},
   "outputs": [],
   "source": [
    "from langchain.chat_models import ChatOpenAI\n",
    "from langchain.document_loaders import TextLoader\n",
    "# from langchain.document_loaders import UnstructuredFileLoader\n",
    "# from langchain.text_splitter import RecursiveCharacterTextSplitter\n",
    "from langchain.text_splitter import CharacterTextSplitter\n",
    "\n",
    "from langchain.embeddings import OpenAIEmbeddings, CacheBackedEmbeddings\n",
    "from langchain.vectorstores import Chroma\n",
    "from langchain.storage import LocalFileStore\n",
    "\n",
    "cache_dir = LocalFileStore(\"./.cache\")\n",
    "\n",
    "splitter = CharacterTextSplitter.from_tiktoken_encoder(\n",
    "    separator=\"\\n\\n\",\n",
    "    chunk_size=600,\n",
    "    chunk_overlap=100\n",
    ")\n",
    "loader = TextLoader(\"./files/animal_farm.txt\")\n",
    "\n",
    "# docs = loader.load()\n",
    "docs = loader.load_and_split(text_splitter=splitter)\n",
    "\n",
    "embeddings = OpenAIEmbeddings()\n",
    "\n",
    "cached_embeddings = CacheBackedEmbeddings.from_bytes_store(embeddings, cache_dir)\n",
    "\n",
    "vector_store = Chroma.from_documents(docs, cached_embeddings)\n"
   ]
  },
  {
   "cell_type": "code",
   "execution_count": 4,
   "metadata": {},
   "outputs": [
    {
     "data": {
      "text/plain": [
       "[Document(page_content='\"But is this simply part of the order of nature? Is it because this land\\nof ours is so poor that it cannot afford a decent life to those who dwell\\nupon it? No, comrades, a thousand times no! The soil of England is\\nfertile, its climate is good, it is capable of affording food in abundance\\nto an enormously greater number of animals than now inhabit it. This\\nsingle farm of ours would support a dozen horses, twenty cows, hundreds of\\nsheep--and all of them living in a comfort and a dignity that are now\\nalmost beyond our imagining. Why then do we continue in this miserable\\ncondition? Because nearly the whole of the produce of our labour is stolen\\nfrom us by human beings. There, comrades, is the answer to all our\\nproblems. It is summed up in a single word--Man. Man is the only real\\nenemy we have. Remove Man from the scene, and the root cause of hunger and\\noverwork is abolished for ever.\\n\\n\"Man is the only creature that consumes without producing. He does not\\ngive milk, he does not lay eggs, he is too weak to pull the plough, he\\ncannot run fast enough to catch rabbits. Yet he is lord of all the\\nanimals. He sets them to work, he gives back to them the bare minimum that\\nwill prevent them from starving, and the rest he keeps for himself. Our\\nlabour tills the soil, our dung fertilises it, and yet there is not one of\\nus that owns more than his bare skin. You cows that I see before me, how\\nmany thousands of gallons of milk have you given during this last year?\\nAnd what has happened to that milk which should have been breeding up\\nsturdy calves? Every drop of it has gone down the throats of our enemies.\\nAnd you hens, how many eggs have you laid in this last year, and how many\\nof those eggs ever hatched into chickens? The rest have all gone to market\\nto bring in money for Jones and his men. And you, Clover, where are those\\nfour foals you bore, who should have been the support and pleasure of your\\nold age? Each was sold at a year old--you will never see one of them\\nagain. In return for your four confinements and all your labour in the\\nfields, what have you ever had except your bare rations and a stall?', metadata={'source': './files/animal_farm.txt'}),\n",
       " Document(page_content='And yet the animals never gave up hope. More, they never lost, even for an\\ninstant, their sense of honour and privilege in being members of Animal\\nFarm. They were still the only farm in the whole county--in all\\nEngland!--owned and operated by animals. Not one of them, not even the\\nyoungest, not even the newcomers who had been brought from farms ten or\\ntwenty miles away, ever ceased to marvel at that. And when they heard the\\ngun booming and saw the green flag fluttering at the masthead, their\\nhearts swelled with imperishable pride, and the talk turned always towards\\nthe old heroic days, the expulsion of Jones, the writing of the Seven\\nCommandments, the great battles in which the human invaders had been\\ndefeated. None of the old dreams had been abandoned. The Republic of the\\nAnimals which Major had foretold, when the green fields of England should\\nbe untrodden by human feet, was still believed in. Some day it was coming:\\nit might not be soon, it might not be with in the lifetime of any animal\\nnow living, but still it was coming. Even the tune of \\'Beasts of England\\'\\nwas perhaps hummed secretly here and there: at any rate, it was a fact\\nthat every animal on the farm knew it, though no one would have dared to\\nsing it aloud. It might be that their lives were hard and that not all of\\ntheir hopes had been fulfilled; but they were conscious that they were not\\nas other animals. If they went hungry, it was not from feeding tyrannical\\nhuman beings; if they worked hard, at least they worked for themselves.\\nNo creature among them went upon two legs. No creature called any other\\ncreature \"Master.\" All animals were equal.\\n\\nOne day in early summer Squealer ordered the sheep to follow him, and led\\nthem out to a piece of waste ground at the other end of the farm, which\\nhad become overgrown with birch saplings. The sheep spent the whole day\\nthere browsing at the leaves under Squealer\\'s supervision. In the evening\\nhe returned to the farmhouse himself, but, as it was warm weather, told\\nthe sheep to stay where they were. It ended by their remaining there for a\\nwhole week, during which time the other animals saw nothing of them.\\nSquealer was with them for the greater part of every day. He was, he said,\\nteaching them to sing a new song, for which privacy was needed.', metadata={'source': './files/animal_farm.txt'}),\n",
       " Document(page_content='In April, Animal Farm was proclaimed a Republic, and it became necessary\\nto elect a President. There was only one candidate, Napoleon, who was\\nelected unanimously. On the same day it was given out that fresh documents\\nhad been discovered which revealed further details about Snowball\\'s\\ncomplicity with Jones. It now appeared that Snowball had not, as the\\nanimals had previously imagined, merely attempted to lose the Battle of\\nthe Cowshed by means of a stratagem, but had been openly fighting on\\nJones\\'s side. In fact, it was he who had actually been the leader of the\\nhuman forces, and had charged into battle with the words \"Long live\\nHumanity!\" on his lips. The wounds on Snowball\\'s back, which a few of the\\nanimals still remembered to have seen, had been inflicted by Napoleon\\'s\\nteeth.\\n\\nIn the middle of the summer Moses the raven suddenly reappeared on the\\nfarm, after an absence of several years. He was quite unchanged, still did\\nno work, and talked in the same strain as ever about Sugarcandy Mountain.\\nHe would perch on a stump, flap his black wings, and talk by the hour to\\nanyone who would listen. \"Up there, comrades,\" he would say solemnly,\\npointing to the sky with his large beak--\"up there, just on the other side\\nof that dark cloud that you can see--there it lies, Sugarcandy Mountain,\\nthat happy country where we poor animals shall rest for ever from our\\nlabours!\" He even claimed to have been there on one of his higher flights,\\nand to have seen the everlasting fields of clover and the linseed cake and\\nlump sugar growing on the hedges. Many of the animals believed him. Their\\nlives now, they reasoned, were hungry and laborious; was it not right and\\njust that a better world should exist somewhere else? A thing that was\\ndifficult to determine was the attitude of the pigs towards Moses. They\\nall declared contemptuously that his stories about Sugarcandy Mountain\\nwere lies, and yet they allowed him to remain on the farm, not working,\\nwith an allowance of a gill of beer a day.', metadata={'source': './files/animal_farm.txt'}),\n",
       " Document(page_content=\"And he moved off at his lumbering trot and made for the quarry. Having got\\nthere, he collected two successive loads of stone and dragged them down to\\nthe windmill before retiring for the night.\\n\\nThe animals huddled about Clover, not speaking. The knoll where they were\\nlying gave them a wide prospect across the countryside. Most of Animal\\nFarm was within their view--the long pasture stretching down to the main\\nroad, the hayfield, the spinney, the drinking pool, the ploughed fields\\nwhere the young wheat was thick and green, and the red roofs of the farm\\nbuildings with the smoke curling from the chimneys. It was a clear spring\\nevening. The grass and the bursting hedges were gilded by the level rays\\nof the sun. Never had the farm--and with a kind of surprise they\\nremembered that it was their own farm, every inch of it their own\\nproperty--appeared to the animals so desirable a place. As Clover looked\\ndown the hillside her eyes filled with tears. If she could have spoken her\\nthoughts, it would have been to say that this was not what they had aimed\\nat when they had set themselves years ago to work for the overthrow of the\\nhuman race. These scenes of terror and slaughter were not what they had\\nlooked forward to on that night when old Major first stirred them to\\nrebellion. If she herself had had any picture of the future, it had been\\nof a society of animals set free from hunger and the whip, all equal, each\\nworking according to his capacity, the strong protecting the weak, as she\\nhad protected the lost brood of ducklings with her foreleg on the night of\\nMajor's speech. Instead--she did not know why--they had come to a time\\nwhen no one dared speak his mind, when fierce, growling dogs roamed\\neverywhere, and when you had to watch your comrades torn to pieces after\\nconfessing to shocking crimes. There was no thought of rebellion or\\ndisobedience in her mind. She knew that, even as things were, they were\\nfar better off than they had been in the days of Jones, and that before\\nall else it was needful to prevent the return of the human beings.\\nWhatever happened she would remain faithful, work hard, carry out the\\norders that were given to her, and accept the leadership of Napoleon. But\\nstill, it was not for this that she and all the other animals had hoped\\nand toiled. It was not for this that they had built the windmill and faced\\nthe bullets of Jones's gun. Such were her thoughts, though she lacked the\\nwords to express them.\", metadata={'source': './files/animal_farm.txt'})]"
      ]
     },
     "execution_count": 4,
     "metadata": {},
     "output_type": "execute_result"
    }
   ],
   "source": [
    "results = vector_store.similarity_search(\"Who is the leader of the farm?\") \n",
    "\n",
    "results"
   ]
  }
 ],
 "metadata": {
  "kernelspec": {
   "display_name": "venv",
   "language": "python",
   "name": "python3"
  },
  "language_info": {
   "codemirror_mode": {
    "name": "ipython",
    "version": 3
   },
   "file_extension": ".py",
   "mimetype": "text/x-python",
   "name": "python",
   "nbconvert_exporter": "python",
   "pygments_lexer": "ipython3",
   "version": "3.11.6"
  }
 },
 "nbformat": 4,
 "nbformat_minor": 2
}
