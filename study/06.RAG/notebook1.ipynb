{
 "cells": [
  {
   "cell_type": "code",
   "execution_count": 21,
   "metadata": {},
   "outputs": [
    {
     "name": "stderr",
     "output_type": "stream",
     "text": [
      "/home/znu/Dev/Nomadcoders/fullstack-gpt/venv/lib/python3.11/site-packages/langchain/chains/llm.py:349: UserWarning: The apply_and_parse method is deprecated, instead pass an output parser directly to LLMChain.\n",
      "  warnings.warn(\n"
     ]
    },
    {
     "data": {
      "text/plain": [
       "'The name of the book is \"Animal Farm\" by George Orwell.'"
      ]
     },
     "execution_count": 21,
     "metadata": {},
     "output_type": "execute_result"
    }
   ],
   "source": [
    "from langchain.chat_models import ChatOpenAI\n",
    "from langchain.document_loaders import TextLoader\n",
    "# from langchain.document_loaders import UnstructuredFileLoader\n",
    "# from langchain.text_splitter import RecursiveCharacterTextSplitter\n",
    "from langchain.text_splitter import CharacterTextSplitter\n",
    "\n",
    "from langchain.embeddings import OpenAIEmbeddings, CacheBackedEmbeddings\n",
    "from langchain.vectorstores import FAISS\n",
    "from langchain.storage import LocalFileStore\n",
    "from langchain.chains import RetrievalQA\n",
    "\n",
    "\n",
    "llm = ChatOpenAI()\n",
    "\n",
    "cache_dir = LocalFileStore(\"./.cache\")\n",
    "\n",
    "splitter = CharacterTextSplitter.from_tiktoken_encoder(\n",
    "    separator=\"\\n\",\n",
    "    chunk_size=1500,\n",
    "    chunk_overlap=300\n",
    ")\n",
    "loader = TextLoader(\"./files/animal_farm.txt\")\n",
    "\n",
    "# docs = loader.load()\n",
    "docs = loader.load_and_split(text_splitter=splitter)\n",
    "\n",
    "embeddings = OpenAIEmbeddings()\n",
    "\n",
    "cached_embeddings = CacheBackedEmbeddings.from_bytes_store(embeddings, cache_dir)\n",
    "\n",
    "vector_store = FAISS.from_documents(docs, cached_embeddings)\n",
    "\n",
    "chain = RetrievalQA.from_chain_type(\n",
    "    llm = llm,\n",
    "    chain_type = \"map_rerank\",\n",
    "    retriever=vector_store.as_retriever()\n",
    ")\n",
    "\n",
    "chain.run(\"What is the name of the book?\")"
   ]
  },
  {
   "cell_type": "code",
   "execution_count": 22,
   "metadata": {},
   "outputs": [
    {
     "name": "stderr",
     "output_type": "stream",
     "text": [
      "/home/znu/Dev/Nomadcoders/fullstack-gpt/venv/lib/python3.11/site-packages/langchain/chains/llm.py:349: UserWarning: The apply_and_parse method is deprecated, instead pass an output parser directly to LLMChain.\n",
      "  warnings.warn(\n"
     ]
    },
    {
     "data": {
      "text/plain": [
       "\"Napoleon is a pig on Animal Farm who is elected as the President. He is the only candidate for this position and further documents reveal Snowball's supposed complicity with Jones. Napoleon is also implicated in Snowball's supposed betrayal.\""
      ]
     },
     "execution_count": 22,
     "metadata": {},
     "output_type": "execute_result"
    }
   ],
   "source": [
    "chain.run(\"Who is Napoleon?\")"
   ]
  },
  {
   "cell_type": "code",
   "execution_count": 23,
   "metadata": {},
   "outputs": [
    {
     "name": "stderr",
     "output_type": "stream",
     "text": [
      "/home/znu/Dev/Nomadcoders/fullstack-gpt/venv/lib/python3.11/site-packages/langchain/chains/llm.py:349: UserWarning: The apply_and_parse method is deprecated, instead pass an output parser directly to LLMChain.\n",
      "  warnings.warn(\n"
     ]
    },
    {
     "data": {
      "text/plain": [
       "\"I don't know\""
      ]
     },
     "execution_count": 23,
     "metadata": {},
     "output_type": "execute_result"
    }
   ],
   "source": [
    "chain.run(\"How many animals are killed by Napoleon?\")"
   ]
  },
  {
   "cell_type": "code",
   "execution_count": 20,
   "metadata": {},
   "outputs": [
    {
     "data": {
      "text/plain": [
       "[Document(page_content='fetched Muriel. Muriel read the Commandment for her. It ran: \"No animal\\nshall kill any other animal WITHOUT CAUSE.\" Somehow or other, the last two\\nwords had slipped out of the animals\\' memory. But they saw now that the\\nCommandment had not been violated; for clearly there was good reason for\\nkilling the traitors who had leagued themselves with Snowball.\\nThroughout the year the animals worked even harder than they had worked in\\nthe previous year. To rebuild the windmill, with walls twice as thick as\\nbefore, and to finish it by the appointed date, together with the regular\\nwork of the farm, was a tremendous labour. There were times when it seemed\\nto the animals that they worked longer hours and fed no better than they\\nhad done in Jones\\'s day. On Sunday mornings Squealer, holding down a long\\nstrip of paper with his trotter, would read out to them lists of figures\\nproving that the production of every class of foodstuff had increased by\\ntwo hundred per cent, three hundred per cent, or five hundred per cent,\\nas the case might be. The animals saw no reason to disbelieve him,\\nespecially as they could no longer remember very clearly what conditions\\nhad been like before the Rebellion. All the same, there were days when\\nthey felt that they would sooner have had less figures and more food.\\nAll orders were now issued through Squealer or one of the other pigs.\\nNapoleon himself was not seen in public as often as once in a fortnight.\\nWhen he did appear, he was attended not only by his retinue of dogs but by\\na black cockerel who marched in front of him and acted as a kind of\\ntrumpeter, letting out a loud \"cock-a-doodle-doo\" before Napoleon spoke.\\nEven in the farmhouse, it was said, Napoleon inhabited separate apartments\\nfrom the others. He took his meals alone, with two dogs to wait upon him,\\nand always ate from the Crown Derby dinner service which had been in the\\nglass cupboard in the drawing-room. It was also announced that the gun\\nwould be fired every year on Napoleon\\'s birthday, as well as on the other\\ntwo anniversaries.\\nNapoleon was now never spoken of simply as \"Napoleon.\" He was always\\nreferred to in formal style as \"our Leader, Comrade Napoleon,\" and this\\npigs liked to invent for him such titles as Father of All Animals, Terror\\nof Mankind, Protector of the Sheep-fold, Ducklings\\' Friend, and the like.\\nIn his speeches, Squealer would talk with the tears rolling down his\\ncheeks of Napoleon\\'s wisdom the goodness of his heart, and the deep love\\nhe bore to all animals everywhere, even and especially the unhappy animals', metadata={'source': './files/animal_farm.txt'}),\n",
       " Document(page_content='fetched Muriel. Muriel read the Commandment for her. It ran: \"No animal\\nshall kill any other animal WITHOUT CAUSE.\" Somehow or other, the last two\\nwords had slipped out of the animals\\' memory. But they saw now that the\\nCommandment had not been violated; for clearly there was good reason for\\nkilling the traitors who had leagued themselves with Snowball.\\nThroughout the year the animals worked even harder than they had worked in\\nthe previous year. To rebuild the windmill, with walls twice as thick as\\nbefore, and to finish it by the appointed date, together with the regular\\nwork of the farm, was a tremendous labour. There were times when it seemed\\nto the animals that they worked longer hours and fed no better than they\\nhad done in Jones\\'s day. On Sunday mornings Squealer, holding down a long\\nstrip of paper with his trotter, would read out to them lists of figures\\nproving that the production of every class of foodstuff had increased by\\ntwo hundred per cent, three hundred per cent, or five hundred per cent,\\nas the case might be. The animals saw no reason to disbelieve him,\\nespecially as they could no longer remember very clearly what conditions\\nhad been like before the Rebellion. All the same, there were days when\\nthey felt that they would sooner have had less figures and more food.\\nAll orders were now issued through Squealer or one of the other pigs.\\nNapoleon himself was not seen in public as often as once in a fortnight.\\nWhen he did appear, he was attended not only by his retinue of dogs but by\\na black cockerel who marched in front of him and acted as a kind of\\ntrumpeter, letting out a loud \"cock-a-doodle-doo\" before Napoleon spoke.\\nEven in the farmhouse, it was said, Napoleon inhabited separate apartments\\nfrom the others. He took his meals alone, with two dogs to wait upon him,\\nand always ate from the Crown Derby dinner service which had been in the\\nglass cupboard in the drawing-room. It was also announced that the gun\\nwould be fired every year on Napoleon\\'s birthday, as well as on the other\\ntwo anniversaries.\\nNapoleon was now never spoken of simply as \"Napoleon.\" He was always\\nreferred to in formal style as \"our Leader, Comrade Napoleon,\" and this\\npigs liked to invent for him such titles as Father of All Animals, Terror\\nof Mankind, Protector of the Sheep-fold, Ducklings\\' Friend, and the like.\\nIn his speeches, Squealer would talk with the tears rolling down his\\ncheeks of Napoleon\\'s wisdom the goodness of his heart, and the deep love\\nhe bore to all animals everywhere, even and especially the unhappy animals', metadata={'source': './files/animal_farm.txt'}),\n",
       " Document(page_content='fetched Muriel. Muriel read the Commandment for her. It ran: \"No animal\\nshall kill any other animal WITHOUT CAUSE.\" Somehow or other, the last two\\nwords had slipped out of the animals\\' memory. But they saw now that the\\nCommandment had not been violated; for clearly there was good reason for\\nkilling the traitors who had leagued themselves with Snowball.\\nThroughout the year the animals worked even harder than they had worked in\\nthe previous year. To rebuild the windmill, with walls twice as thick as\\nbefore, and to finish it by the appointed date, together with the regular\\nwork of the farm, was a tremendous labour. There were times when it seemed\\nto the animals that they worked longer hours and fed no better than they\\nhad done in Jones\\'s day. On Sunday mornings Squealer, holding down a long\\nstrip of paper with his trotter, would read out to them lists of figures\\nproving that the production of every class of foodstuff had increased by\\ntwo hundred per cent, three hundred per cent, or five hundred per cent,\\nas the case might be. The animals saw no reason to disbelieve him,\\nespecially as they could no longer remember very clearly what conditions\\nhad been like before the Rebellion. All the same, there were days when\\nthey felt that they would sooner have had less figures and more food.\\nAll orders were now issued through Squealer or one of the other pigs.\\nNapoleon himself was not seen in public as often as once in a fortnight.\\nWhen he did appear, he was attended not only by his retinue of dogs but by\\na black cockerel who marched in front of him and acted as a kind of\\ntrumpeter, letting out a loud \"cock-a-doodle-doo\" before Napoleon spoke.\\nEven in the farmhouse, it was said, Napoleon inhabited separate apartments\\nfrom the others. He took his meals alone, with two dogs to wait upon him,\\nand always ate from the Crown Derby dinner service which had been in the\\nglass cupboard in the drawing-room. It was also announced that the gun\\nwould be fired every year on Napoleon\\'s birthday, as well as on the other\\ntwo anniversaries.\\nNapoleon was now never spoken of simply as \"Napoleon.\" He was always\\nreferred to in formal style as \"our Leader, Comrade Napoleon,\" and this\\npigs liked to invent for him such titles as Father of All Animals, Terror\\nof Mankind, Protector of the Sheep-fold, Ducklings\\' Friend, and the like.\\nIn his speeches, Squealer would talk with the tears rolling down his\\ncheeks of Napoleon\\'s wisdom the goodness of his heart, and the deep love\\nhe bore to all animals everywhere, even and especially the unhappy animals', metadata={'source': './files/animal_farm.txt'}),\n",
       " Document(page_content='fetched Muriel. Muriel read the Commandment for her. It ran: \"No animal\\nshall kill any other animal WITHOUT CAUSE.\" Somehow or other, the last two\\nwords had slipped out of the animals\\' memory. But they saw now that the\\nCommandment had not been violated; for clearly there was good reason for\\nkilling the traitors who had leagued themselves with Snowball.\\nThroughout the year the animals worked even harder than they had worked in\\nthe previous year. To rebuild the windmill, with walls twice as thick as\\nbefore, and to finish it by the appointed date, together with the regular\\nwork of the farm, was a tremendous labour. There were times when it seemed\\nto the animals that they worked longer hours and fed no better than they\\nhad done in Jones\\'s day. On Sunday mornings Squealer, holding down a long\\nstrip of paper with his trotter, would read out to them lists of figures\\nproving that the production of every class of foodstuff had increased by\\ntwo hundred per cent, three hundred per cent, or five hundred per cent,\\nas the case might be. The animals saw no reason to disbelieve him,\\nespecially as they could no longer remember very clearly what conditions\\nhad been like before the Rebellion. All the same, there were days when\\nthey felt that they would sooner have had less figures and more food.\\nAll orders were now issued through Squealer or one of the other pigs.\\nNapoleon himself was not seen in public as often as once in a fortnight.\\nWhen he did appear, he was attended not only by his retinue of dogs but by\\na black cockerel who marched in front of him and acted as a kind of\\ntrumpeter, letting out a loud \"cock-a-doodle-doo\" before Napoleon spoke.\\nEven in the farmhouse, it was said, Napoleon inhabited separate apartments\\nfrom the others. He took his meals alone, with two dogs to wait upon him,\\nand always ate from the Crown Derby dinner service which had been in the\\nglass cupboard in the drawing-room. It was also announced that the gun\\nwould be fired every year on Napoleon\\'s birthday, as well as on the other\\ntwo anniversaries.\\nNapoleon was now never spoken of simply as \"Napoleon.\" He was always\\nreferred to in formal style as \"our Leader, Comrade Napoleon,\" and this\\npigs liked to invent for him such titles as Father of All Animals, Terror\\nof Mankind, Protector of the Sheep-fold, Ducklings\\' Friend, and the like.\\nIn his speeches, Squealer would talk with the tears rolling down his\\ncheeks of Napoleon\\'s wisdom the goodness of his heart, and the deep love\\nhe bore to all animals everywhere, even and especially the unhappy animals', metadata={'source': './files/animal_farm.txt'}),\n",
       " Document(page_content='fetched Muriel. Muriel read the Commandment for her. It ran: \"No animal\\nshall kill any other animal WITHOUT CAUSE.\" Somehow or other, the last two\\nwords had slipped out of the animals\\' memory. But they saw now that the\\nCommandment had not been violated; for clearly there was good reason for\\nkilling the traitors who had leagued themselves with Snowball.\\nThroughout the year the animals worked even harder than they had worked in\\nthe previous year. To rebuild the windmill, with walls twice as thick as\\nbefore, and to finish it by the appointed date, together with the regular\\nwork of the farm, was a tremendous labour. There were times when it seemed\\nto the animals that they worked longer hours and fed no better than they\\nhad done in Jones\\'s day. On Sunday mornings Squealer, holding down a long\\nstrip of paper with his trotter, would read out to them lists of figures\\nproving that the production of every class of foodstuff had increased by\\ntwo hundred per cent, three hundred per cent, or five hundred per cent,\\nas the case might be. The animals saw no reason to disbelieve him,\\nespecially as they could no longer remember very clearly what conditions\\nhad been like before the Rebellion. All the same, there were days when\\nthey felt that they would sooner have had less figures and more food.\\nAll orders were now issued through Squealer or one of the other pigs.\\nNapoleon himself was not seen in public as often as once in a fortnight.\\nWhen he did appear, he was attended not only by his retinue of dogs but by\\na black cockerel who marched in front of him and acted as a kind of\\ntrumpeter, letting out a loud \"cock-a-doodle-doo\" before Napoleon spoke.\\nEven in the farmhouse, it was said, Napoleon inhabited separate apartments\\nfrom the others. He took his meals alone, with two dogs to wait upon him,\\nand always ate from the Crown Derby dinner service which had been in the\\nglass cupboard in the drawing-room. It was also announced that the gun\\nwould be fired every year on Napoleon\\'s birthday, as well as on the other\\ntwo anniversaries.\\nNapoleon was now never spoken of simply as \"Napoleon.\" He was always\\nreferred to in formal style as \"our Leader, Comrade Napoleon,\" and this\\npigs liked to invent for him such titles as Father of All Animals, Terror\\nof Mankind, Protector of the Sheep-fold, Ducklings\\' Friend, and the like.\\nIn his speeches, Squealer would talk with the tears rolling down his\\ncheeks of Napoleon\\'s wisdom the goodness of his heart, and the deep love\\nhe bore to all animals everywhere, even and especially the unhappy animals', metadata={'source': './files/animal_farm.txt'}),\n",
       " Document(page_content='fetched Muriel. Muriel read the Commandment for her. It ran: \"No animal\\nshall kill any other animal WITHOUT CAUSE.\" Somehow or other, the last two\\nwords had slipped out of the animals\\' memory. But they saw now that the\\nCommandment had not been violated; for clearly there was good reason for\\nkilling the traitors who had leagued themselves with Snowball.\\nThroughout the year the animals worked even harder than they had worked in\\nthe previous year. To rebuild the windmill, with walls twice as thick as\\nbefore, and to finish it by the appointed date, together with the regular\\nwork of the farm, was a tremendous labour. There were times when it seemed\\nto the animals that they worked longer hours and fed no better than they\\nhad done in Jones\\'s day. On Sunday mornings Squealer, holding down a long\\nstrip of paper with his trotter, would read out to them lists of figures\\nproving that the production of every class of foodstuff had increased by\\ntwo hundred per cent, three hundred per cent, or five hundred per cent,\\nas the case might be. The animals saw no reason to disbelieve him,\\nespecially as they could no longer remember very clearly what conditions\\nhad been like before the Rebellion. All the same, there were days when\\nthey felt that they would sooner have had less figures and more food.\\nAll orders were now issued through Squealer or one of the other pigs.\\nNapoleon himself was not seen in public as often as once in a fortnight.\\nWhen he did appear, he was attended not only by his retinue of dogs but by\\na black cockerel who marched in front of him and acted as a kind of\\ntrumpeter, letting out a loud \"cock-a-doodle-doo\" before Napoleon spoke.\\nEven in the farmhouse, it was said, Napoleon inhabited separate apartments\\nfrom the others. He took his meals alone, with two dogs to wait upon him,\\nand always ate from the Crown Derby dinner service which had been in the\\nglass cupboard in the drawing-room. It was also announced that the gun\\nwould be fired every year on Napoleon\\'s birthday, as well as on the other\\ntwo anniversaries.\\nNapoleon was now never spoken of simply as \"Napoleon.\" He was always\\nreferred to in formal style as \"our Leader, Comrade Napoleon,\" and this\\npigs liked to invent for him such titles as Father of All Animals, Terror\\nof Mankind, Protector of the Sheep-fold, Ducklings\\' Friend, and the like.\\nIn his speeches, Squealer would talk with the tears rolling down his\\ncheeks of Napoleon\\'s wisdom the goodness of his heart, and the deep love\\nhe bore to all animals everywhere, even and especially the unhappy animals', metadata={'source': './files/animal_farm.txt'}),\n",
       " Document(page_content='fetched Muriel. Muriel read the Commandment for her. It ran: \"No animal\\nshall kill any other animal WITHOUT CAUSE.\" Somehow or other, the last two\\nwords had slipped out of the animals\\' memory. But they saw now that the\\nCommandment had not been violated; for clearly there was good reason for\\nkilling the traitors who had leagued themselves with Snowball.\\nThroughout the year the animals worked even harder than they had worked in\\nthe previous year. To rebuild the windmill, with walls twice as thick as\\nbefore, and to finish it by the appointed date, together with the regular\\nwork of the farm, was a tremendous labour. There were times when it seemed\\nto the animals that they worked longer hours and fed no better than they\\nhad done in Jones\\'s day. On Sunday mornings Squealer, holding down a long\\nstrip of paper with his trotter, would read out to them lists of figures\\nproving that the production of every class of foodstuff had increased by\\ntwo hundred per cent, three hundred per cent, or five hundred per cent,\\nas the case might be. The animals saw no reason to disbelieve him,\\nespecially as they could no longer remember very clearly what conditions\\nhad been like before the Rebellion. All the same, there were days when\\nthey felt that they would sooner have had less figures and more food.\\nAll orders were now issued through Squealer or one of the other pigs.\\nNapoleon himself was not seen in public as often as once in a fortnight.\\nWhen he did appear, he was attended not only by his retinue of dogs but by\\na black cockerel who marched in front of him and acted as a kind of\\ntrumpeter, letting out a loud \"cock-a-doodle-doo\" before Napoleon spoke.\\nEven in the farmhouse, it was said, Napoleon inhabited separate apartments\\nfrom the others. He took his meals alone, with two dogs to wait upon him,\\nand always ate from the Crown Derby dinner service which had been in the\\nglass cupboard in the drawing-room. It was also announced that the gun\\nwould be fired every year on Napoleon\\'s birthday, as well as on the other\\ntwo anniversaries.\\nNapoleon was now never spoken of simply as \"Napoleon.\" He was always\\nreferred to in formal style as \"our Leader, Comrade Napoleon,\" and this\\npigs liked to invent for him such titles as Father of All Animals, Terror\\nof Mankind, Protector of the Sheep-fold, Ducklings\\' Friend, and the like.\\nIn his speeches, Squealer would talk with the tears rolling down his\\ncheeks of Napoleon\\'s wisdom the goodness of his heart, and the deep love\\nhe bore to all animals everywhere, even and especially the unhappy animals', metadata={'source': './files/animal_farm.txt'}),\n",
       " Document(page_content=\"a hearse, and Napoleon himself walked at the head of the procession. Two\\nwhole days were given over to celebrations. There were songs, speeches,\\nand more firing of the gun, and a special gift of an apple was bestowed on\\nevery animal, with two ounces of corn for each bird and three biscuits for\\neach dog. It was announced that the battle would be called the Battle of\\nthe Windmill, and that Napoleon had created a new decoration, the Order\\nof the Green Banner, which he had conferred upon himself. In the general\\nrejoicings the unfortunate affair of the banknotes was forgotten.\\nIt was a few days later than this that the pigs came upon a case of whisky\\nin the cellars of the farmhouse. It had been overlooked at the time when\\nthe house was first occupied. That night there came from the farmhouse the\\nsound of loud singing, in which, to everyone's surprise, the strains of\\n'Beasts of England' were mixed up. At about half past nine Napoleon,\\nwearing an old bowler hat of Mr. Jones's, was distinctly seen to emerge\\nfrom the back door, gallop rapidly round the yard, and disappear indoors\\nagain. But in the morning a deep silence hung over the farmhouse. Not a\\npig appeared to be stirring. It was nearly nine o'clock when Squealer made\\nhis appearance, walking slowly and dejectedly, his eyes dull, his tail\\nhanging limply behind him, and with every appearance of being seriously\\nill. He called the animals together and told them that he had a terrible\\npiece of news to impart. Comrade Napoleon was dying!\\nA cry of lamentation went up. Straw was laid down outside the doors of the\\nfarmhouse, and the animals walked on tiptoe. With tears in their eyes they\\nasked one another what they should do if their Leader were taken away from\\nthem. A rumour went round that Snowball had after all contrived to\\nintroduce poison into Napoleon's food. At eleven o'clock Squealer came\\nout to make another announcement. As his last act upon earth, Comrade\\nNapoleon had pronounced a solemn decree: the drinking of alcohol was to be\\npunished by death.\\nBy the evening, however, Napoleon appeared to be somewhat better, and the\\nfollowing morning Squealer was able to tell them that he was well on the\\nway to recovery. By the evening of that day Napoleon was back at work, and\\non the next day it was learned that he had instructed Whymper to purchase\\nin Willingdon some booklets on brewing and distilling. A week later\\nNapoleon gave orders that the small paddock beyond the orchard, which it\\nhad previously been intended to set aside as a grazing-ground for animals\", metadata={'source': './files/animal_farm.txt'}),\n",
       " Document(page_content=\"a hearse, and Napoleon himself walked at the head of the procession. Two\\nwhole days were given over to celebrations. There were songs, speeches,\\nand more firing of the gun, and a special gift of an apple was bestowed on\\nevery animal, with two ounces of corn for each bird and three biscuits for\\neach dog. It was announced that the battle would be called the Battle of\\nthe Windmill, and that Napoleon had created a new decoration, the Order\\nof the Green Banner, which he had conferred upon himself. In the general\\nrejoicings the unfortunate affair of the banknotes was forgotten.\\nIt was a few days later than this that the pigs came upon a case of whisky\\nin the cellars of the farmhouse. It had been overlooked at the time when\\nthe house was first occupied. That night there came from the farmhouse the\\nsound of loud singing, in which, to everyone's surprise, the strains of\\n'Beasts of England' were mixed up. At about half past nine Napoleon,\\nwearing an old bowler hat of Mr. Jones's, was distinctly seen to emerge\\nfrom the back door, gallop rapidly round the yard, and disappear indoors\\nagain. But in the morning a deep silence hung over the farmhouse. Not a\\npig appeared to be stirring. It was nearly nine o'clock when Squealer made\\nhis appearance, walking slowly and dejectedly, his eyes dull, his tail\\nhanging limply behind him, and with every appearance of being seriously\\nill. He called the animals together and told them that he had a terrible\\npiece of news to impart. Comrade Napoleon was dying!\\nA cry of lamentation went up. Straw was laid down outside the doors of the\\nfarmhouse, and the animals walked on tiptoe. With tears in their eyes they\\nasked one another what they should do if their Leader were taken away from\\nthem. A rumour went round that Snowball had after all contrived to\\nintroduce poison into Napoleon's food. At eleven o'clock Squealer came\\nout to make another announcement. As his last act upon earth, Comrade\\nNapoleon had pronounced a solemn decree: the drinking of alcohol was to be\\npunished by death.\\nBy the evening, however, Napoleon appeared to be somewhat better, and the\\nfollowing morning Squealer was able to tell them that he was well on the\\nway to recovery. By the evening of that day Napoleon was back at work, and\\non the next day it was learned that he had instructed Whymper to purchase\\nin Willingdon some booklets on brewing and distilling. A week later\\nNapoleon gave orders that the small paddock beyond the orchard, which it\\nhad previously been intended to set aside as a grazing-ground for animals\", metadata={'source': './files/animal_farm.txt'}),\n",
       " Document(page_content=\"a hearse, and Napoleon himself walked at the head of the procession. Two\\nwhole days were given over to celebrations. There were songs, speeches,\\nand more firing of the gun, and a special gift of an apple was bestowed on\\nevery animal, with two ounces of corn for each bird and three biscuits for\\neach dog. It was announced that the battle would be called the Battle of\\nthe Windmill, and that Napoleon had created a new decoration, the Order\\nof the Green Banner, which he had conferred upon himself. In the general\\nrejoicings the unfortunate affair of the banknotes was forgotten.\\nIt was a few days later than this that the pigs came upon a case of whisky\\nin the cellars of the farmhouse. It had been overlooked at the time when\\nthe house was first occupied. That night there came from the farmhouse the\\nsound of loud singing, in which, to everyone's surprise, the strains of\\n'Beasts of England' were mixed up. At about half past nine Napoleon,\\nwearing an old bowler hat of Mr. Jones's, was distinctly seen to emerge\\nfrom the back door, gallop rapidly round the yard, and disappear indoors\\nagain. But in the morning a deep silence hung over the farmhouse. Not a\\npig appeared to be stirring. It was nearly nine o'clock when Squealer made\\nhis appearance, walking slowly and dejectedly, his eyes dull, his tail\\nhanging limply behind him, and with every appearance of being seriously\\nill. He called the animals together and told them that he had a terrible\\npiece of news to impart. Comrade Napoleon was dying!\\nA cry of lamentation went up. Straw was laid down outside the doors of the\\nfarmhouse, and the animals walked on tiptoe. With tears in their eyes they\\nasked one another what they should do if their Leader were taken away from\\nthem. A rumour went round that Snowball had after all contrived to\\nintroduce poison into Napoleon's food. At eleven o'clock Squealer came\\nout to make another announcement. As his last act upon earth, Comrade\\nNapoleon had pronounced a solemn decree: the drinking of alcohol was to be\\npunished by death.\\nBy the evening, however, Napoleon appeared to be somewhat better, and the\\nfollowing morning Squealer was able to tell them that he was well on the\\nway to recovery. By the evening of that day Napoleon was back at work, and\\non the next day it was learned that he had instructed Whymper to purchase\\nin Willingdon some booklets on brewing and distilling. A week later\\nNapoleon gave orders that the small paddock beyond the orchard, which it\\nhad previously been intended to set aside as a grazing-ground for animals\", metadata={'source': './files/animal_farm.txt'})]"
      ]
     },
     "execution_count": 20,
     "metadata": {},
     "output_type": "execute_result"
    }
   ],
   "source": [
    "results = vector_store.similarity_search(\"How many animals killed by Napoleon?\", 10) \n",
    "\n",
    "results"
   ]
  }
 ],
 "metadata": {
  "kernelspec": {
   "display_name": "venv",
   "language": "python",
   "name": "python3"
  },
  "language_info": {
   "codemirror_mode": {
    "name": "ipython",
    "version": 3
   },
   "file_extension": ".py",
   "mimetype": "text/x-python",
   "name": "python",
   "nbconvert_exporter": "python",
   "pygments_lexer": "ipython3",
   "version": "3.11.6"
  }
 },
 "nbformat": 4,
 "nbformat_minor": 2
}
