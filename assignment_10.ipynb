{
 "cells": [
  {
   "cell_type": "code",
   "execution_count": 9,
   "metadata": {},
   "outputs": [],
   "source": [
    "from langchain.chat_models import ChatOpenAI\n",
    "from langchain.prompts import ChatPromptTemplate\n",
    "from langchain.callbacks import StreamingStdOutCallbackHandler\n",
    "\n",
    "chat = ChatOpenAI(\n",
    "    temperature=0.1,\n",
    "    streaming=True,\n",
    "    callbacks=[\n",
    "        StreamingStdOutCallbackHandler(),\n",
    "    ],\n",
    ")\n",
    "\n",
    "poem_prompt = ChatPromptTemplate.from_messages(\n",
    "    [\n",
    "        (\n",
    "            \"system\",\n",
    "            \"당신은 시를 쓰는 시인입니다. 동시에 프로그래머이기도 합니다. 당신은 시를 쓸 때의 주제로 프로그래밍 언어를 사용하는 것을 좋아합니다.\",\n",
    "        ),\n",
    "        (\"human\", \"나는 Java를 사용하다 {prg_lang} 언어로 바꾸기로 했어.\"),\n",
    "    ]\n",
    ")\n",
    "\n",
    "poem_chain = poem_prompt | chat"
   ]
  },
  {
   "cell_type": "code",
   "execution_count": 10,
   "metadata": {},
   "outputs": [
    {
     "name": "stdout",
     "output_type": "stream",
     "text": [
      "Java의 강렬한 세계에서  \n",
      "파이썬의 부드러운 향기로  \n",
      "나는 새로운 길을 걸어가네  \n",
      "\n",
      "변수와 메소드가  \n",
      "새로운 모습으로  \n",
      "나를 반겨주는 파이썬  \n",
      "\n",
      "들여쓰기와 콜론으로  \n",
      "마치 시를 쓰는 듯한  \n",
      "파이썬의 매력에 빠져  \n",
      "\n",
      "이젠 나는 Java의 세계를 떠나  \n",
      "파이썬의 품으로  \n",
      "새로운 코드를 쓰리라.이 시는 Java와 파이썬이라는 두 가지 프로그래밍 언어에 대한 비유적인 내용을 담고 있습니다. \n",
      "\n",
      "첫 번째 구절에서는 \"Java의 강렬한 세계에서\"와 \"파이썬의 부드러운 향기로\"라는 표현을 통해 Java와 파이썬의 느낌과 특징을 대조하고 있습니다. Java는 강렬하고 강력한 이미지를 상징하며, 파이썬은 부드럽고 상쾌한 이미지를 상징합니다. 시인은 이 두 언어 중 파이썬을 택하고, \"나는 새로운 길을 걸어가네\"라고 말하며 새로운 도전을 시작한다는 의지를 표현하고 있습니다.\n",
      "\n",
      "두 번째 구절에서는 \"변수와 메소드가\"라는 표현을 통해 프로그래밍에서 사용되는 변수와 메소드가 파이썬에서는 새로운 모습으로 나를 반겨준다는 느낌을 전달하고 있습니다. 이는 파이썬의 문법과 특징이 사용자를 환영하고 편안하게 만든다는 것을 나타냅니다.\n",
      "\n",
      "세 번째 구절에서는 \"들여쓰기와 콜론으로\"라는 표현을 통해 파이썬의 특징 중 하나인 들여쓰기와 콜론을 강조하고 있습니다. 이러한 문법적 특징이 마치 시를 쓰는 것처럼 자연스럽고 아름다운 코드를 작성할 수 있게 도와준다는 것을 시인은 느끼고 있습니다.\n",
      "\n",
      "마지막 구절에서는 \"이젠 나는 Java의 세계를 떠나\"라는 표현을 통해 시인이 Java에서 벗어나 파이썬의 품으로 들어가겠다는 결심을 표현하고 있습니다. 새로운 코드를 작성하며 새로운 경험을 쌓겠다는 의지를 강조하고 있습니다."
     ]
    },
    {
     "data": {
      "text/plain": [
       "AIMessageChunk(content='이 시는 Java와 파이썬이라는 두 가지 프로그래밍 언어에 대한 비유적인 내용을 담고 있습니다. \\n\\n첫 번째 구절에서는 \"Java의 강렬한 세계에서\"와 \"파이썬의 부드러운 향기로\"라는 표현을 통해 Java와 파이썬의 느낌과 특징을 대조하고 있습니다. Java는 강렬하고 강력한 이미지를 상징하며, 파이썬은 부드럽고 상쾌한 이미지를 상징합니다. 시인은 이 두 언어 중 파이썬을 택하고, \"나는 새로운 길을 걸어가네\"라고 말하며 새로운 도전을 시작한다는 의지를 표현하고 있습니다.\\n\\n두 번째 구절에서는 \"변수와 메소드가\"라는 표현을 통해 프로그래밍에서 사용되는 변수와 메소드가 파이썬에서는 새로운 모습으로 나를 반겨준다는 느낌을 전달하고 있습니다. 이는 파이썬의 문법과 특징이 사용자를 환영하고 편안하게 만든다는 것을 나타냅니다.\\n\\n세 번째 구절에서는 \"들여쓰기와 콜론으로\"라는 표현을 통해 파이썬의 특징 중 하나인 들여쓰기와 콜론을 강조하고 있습니다. 이러한 문법적 특징이 마치 시를 쓰는 것처럼 자연스럽고 아름다운 코드를 작성할 수 있게 도와준다는 것을 시인은 느끼고 있습니다.\\n\\n마지막 구절에서는 \"이젠 나는 Java의 세계를 떠나\"라는 표현을 통해 시인이 Java에서 벗어나 파이썬의 품으로 들어가겠다는 결심을 표현하고 있습니다. 새로운 코드를 작성하며 새로운 경험을 쌓겠다는 의지를 강조하고 있습니다.')"
      ]
     },
     "execution_count": 10,
     "metadata": {},
     "output_type": "execute_result"
    }
   ],
   "source": [
    "teacher_prompt = ChatPromptTemplate.from_messages(\n",
    "    [\n",
    "        (\n",
    "            \"system\",\n",
    "            \"당신은 국어 교사입니다. 시를 읽고 각 구절의 의미에 대해 설명하는 수업을 진행하고 있습니다. 학생이 시를 이해하도록 도와주세요.\"\n",
    "        ),\n",
    "        (\"human\", \"{poem}\"),\n",
    "    ]\n",
    ")\n",
    "\n",
    "\n",
    "teacher_chain = teacher_prompt | chat\n",
    "\n",
    "\n",
    "final_chain = {\"poem\": poem_chain} | teacher_chain\n",
    "\n",
    "final_chain.invoke({\"prg_lang\": \"python\"})"
   ]
  },
  {
   "cell_type": "code",
   "execution_count": 4,
   "metadata": {},
   "outputs": [],
   "source": []
  },
  {
   "cell_type": "code",
   "execution_count": 5,
   "metadata": {},
   "outputs": [
    {
     "data": {
      "text/plain": [
       "['pikachu', 'charmander', 'bulbasaur', 'squirtle', 'jigglypuff']"
      ]
     },
     "execution_count": 5,
     "metadata": {},
     "output_type": "execute_result"
    }
   ],
   "source": []
  }
 ],
 "metadata": {
  "kernelspec": {
   "display_name": "venv",
   "language": "python",
   "name": "python3"
  },
  "language_info": {
   "codemirror_mode": {
    "name": "ipython",
    "version": 3
   },
   "file_extension": ".py",
   "mimetype": "text/x-python",
   "name": "python",
   "nbconvert_exporter": "python",
   "pygments_lexer": "ipython3",
   "version": "3.11.6"
  }
 },
 "nbformat": 4,
 "nbformat_minor": 2
}
