{
 "cells": [
  {
   "cell_type": "code",
   "execution_count": 8,
   "metadata": {},
   "outputs": [],
   "source": [
    "from langchain.chat_models import ChatOpenAI\n",
    "from langchain.prompts.few_shot import FewShotPromptTemplate\n",
    "from langchain.callbacks import StreamingStdOutCallbackHandler\n",
    "from langchain.prompts.prompt import PromptTemplate\n",
    "\n",
    "chat = ChatOpenAI(\n",
    "    temperature=0.1,\n",
    "    streaming=True,\n",
    "    callbacks=[\n",
    "        StreamingStdOutCallbackHandler(),\n",
    "    ],\n",
    ")\n"
   ]
  },
  {
   "cell_type": "code",
   "execution_count": 9,
   "metadata": {},
   "outputs": [],
   "source": [
    "examples = [\n",
    "    {\n",
    "        \"question\": \"영화 에이리언: 로물루스의 정보를 알려주세요.\",\n",
    "        \"answer\": \"\"\"\n",
    "        장르: SF, 호러, 액션, 서스펜스, 스릴러, 크리처\n",
    "        제목: 에이리언: 로물루스\n",
    "        감독: 페데 알바레즈\n",
    "        출연: 케일리 스패니, 데이비드 존슨, 아치 르노, dltkqpffk apfmtpem, tmvkdlzm vjs, dpdlffls dn\n",
    "        개봉일: 2024년 8월 14일\n",
    "        제작비: 8000만 달러\n",
    "        월드 박스 오피스: 225,248,744 달러\n",
    "        시놉시스: 영화 역사상 가장 위대한 시리즈 <에이리언> 리들리 스콧 제작 · <맨 인 더 다크> 페데 알바레즈 감독의 숨 막히는 서바이벌 스릴러로 돌아오다!  2142년, 부모 세대가 맞닥뜨렸던 암울한 미래를 피하려는 청년들이 더 나은 삶을 찾기 위해서 식민지를 떠날 계획을 세운다.  하지만 버려진 우주 기지 ‘로물루스’[8]에 도착한 이들은 악몽과도 같은 에이리언의 무자비한 공격에 쫓기기 시작한다.  그 누구도 그들의 절규를 들을 수 없는 우주 한가운데, 생존을 위한 치열한 사투를 벌여야 하는데...  폐쇄된 공간에서 펼쳐지는 압도적인 공포를 느껴라!\n",
    "\"\"\"\n",
    "\n",
    "    },\n",
    "    {\n",
    "        \"question\": \"영화 택시운전사의 정보를 알려주세요\",\n",
    "        \"answer\": \"\"\"\n",
    "        장르: 드라마, 가족, 어드벤처, 시대극, 로드, 버디, 전기\n",
    "        제목: 택시운전사\n",
    "        감독: 장훈\n",
    "        출연: 송강호, 토마스 크레치만, 유해진, 류준열\n",
    "        개봉일: 2017년 8월 2일\n",
    "        제작비: 150억 원\n",
    "        월드 박스 오피스: 86,252,940 달러\n",
    "        시놉시스: 1980년 5월, 서울 택시운전사. “광주? 돈 워리, 돈 워리! 아이 베스트 드라이버” 택시운전사 만섭(송강호)은 외국손님을 태우고 광주에 갔다 통금 전에 돌아오면 밀린 월세를 갚을 수 있는 거금 10만 원을 준다는 말에 독일기자 피터(토마스 크레치만)를 태우고 영문도 모른 채 길을 나선다.  광주 그리고 사람들. “모르겄어라, 우덜도 우덜한테 와 그라는지…” 어떻게든 택시비를 받아야 하는 만섭의 기지로 검문을 뚫고 겨우 들어선 광주.  위험하니 서울로 돌아가자는 만섭의 만류에도 피터는 대학생 재식(류준열)과 황기사(유해진)의 도움 속에 촬영을 시작한다.  그러나 상황은 점점 심각해지고 만섭은 집에 혼자 있을 딸 걱정에 점점 초조해지는데…\n",
    "        \"\"\"\n",
    "    },\n",
    "    {\n",
    "        \"question\": \"영화 인사이드 아웃2의 정보를 알려주세요\",\n",
    "        \"answer\": \"\"\"\n",
    "        장르: 애니메이션, 코미디, 드라마, 성장, 가족, 어드벤처, 학원\n",
    "        제목: 인사이드 아웃 2\n",
    "        감독: 켈시 맨\n",
    "        출연: 에이미 폴러, 마야 호크\n",
    "        개봉일: 2024년 8월 1일\n",
    "        제작비: 2억 달러\n",
    "        월드 박스 오피스: 1,649,599,772 달러\n",
    "        시놉시스: \n",
    "        디즈니·픽사의 대표작 <인사이드 아웃> 새로운 감정과 함께 돌아오다!  13살이 된 라일리의 행복을 위해 매일 바쁘게 머릿속 감정 컨트롤 본부를 운영하는 ‘기쁨’, ‘슬픔’, ‘버럭’, ‘까칠’, ‘소심’.  그러던 어느 날, 낯선 감정인 ‘불안’, ‘당황’, ‘따분’, ‘부럽’이가 본부에 등장하고, 언제나 최악의 상황을 대비하며 제멋대로인 ‘불안’이와 기존 감정들은 계속 충돌한다.  결국 새로운 감정들에 의해 본부에서 쫓겨나게 된 기존 감정들은 다시 본부로 돌아가기 위해 위험천만한 모험을 시작하는데… 2024년, 전 세계를 공감으로 물들인 유쾌한 상상이 다시 시작된다!\n",
    "        \"\"\"\n",
    "    }\n",
    "]"
   ]
  },
  {
   "cell_type": "code",
   "execution_count": 11,
   "metadata": {},
   "outputs": [
    {
     "name": "stdout",
     "output_type": "stream",
     "text": [
      "AI:\n",
      "        장르: 액션, 모험, SF, 판타지\n",
      "        제목: 에벤져스: 엔드게임\n",
      "        감독: 안소니 루소, 조 루소\n",
      "        출연: 로버트 다우니 주니어, 크리스 에반스, 크리스 헴스워스, 스칼렛 요한슨, 마크 러팔로, 제레미 레너, 폴 러드, 조슈 브롤린, 브리 라슨\n",
      "        개봉일: 2019년 4월 24일\n",
      "        제작비: 3억 56백만 달러\n",
      "        월드 박스 오피스: 27억 85백만 달러\n",
      "        시놉시스: 인피니티 워 이후 절반만 살아남은 지구의 운명이 걸린 최후의 전쟁이 시작된다. 어벤져스는 이번에도 모든 것을 걸고 타노스와의 최후의 전투에 나선다. 혼란 속에서도 희망을 찾아낸 어벤져스는 과거로 시간을 거슬러가며 지구의 운명을 바꾸기 위한 마지막 도전에 나선다. 모든 것이 끝나는 최후의 게임, 어벤져스: 엔드게임."
     ]
    },
    {
     "data": {
      "text/plain": [
       "AIMessageChunk(content='AI:\\n        장르: 액션, 모험, SF, 판타지\\n        제목: 에벤져스: 엔드게임\\n        감독: 안소니 루소, 조 루소\\n        출연: 로버트 다우니 주니어, 크리스 에반스, 크리스 헴스워스, 스칼렛 요한슨, 마크 러팔로, 제레미 레너, 폴 러드, 조슈 브롤린, 브리 라슨\\n        개봉일: 2019년 4월 24일\\n        제작비: 3억 56백만 달러\\n        월드 박스 오피스: 27억 85백만 달러\\n        시놉시스: 인피니티 워 이후 절반만 살아남은 지구의 운명이 걸린 최후의 전쟁이 시작된다. 어벤져스는 이번에도 모든 것을 걸고 타노스와의 최후의 전투에 나선다. 혼란 속에서도 희망을 찾아낸 어벤져스는 과거로 시간을 거슬러가며 지구의 운명을 바꾸기 위한 마지막 도전에 나선다. 모든 것이 끝나는 최후의 게임, 어벤져스: 엔드게임.')"
      ]
     },
     "execution_count": 11,
     "metadata": {},
     "output_type": "execute_result"
    }
   ],
   "source": [
    "example_prompt = PromptTemplate.from_template(\"Human: {question}\\nAI:{answer}\")\n",
    "\n",
    "prompt = FewShotPromptTemplate(\n",
    "    example_prompt=example_prompt,\n",
    "    examples=examples,\n",
    "    suffix=\"Human: 영화 {movie}의 정보를 알려주세요\",\n",
    "    input_variables=[\"movie\"],\n",
    ")\n",
    "\n",
    "chain = prompt | chat\n",
    "\n",
    "chain.invoke({\"movie\": \"에벤져스: 엔드게임\"})"
   ]
  },
  {
   "cell_type": "code",
   "execution_count": null,
   "metadata": {},
   "outputs": [],
   "source": []
  }
 ],
 "metadata": {
  "kernelspec": {
   "display_name": "venv",
   "language": "python",
   "name": "python3"
  },
  "language_info": {
   "codemirror_mode": {
    "name": "ipython",
    "version": 3
   },
   "file_extension": ".py",
   "mimetype": "text/x-python",
   "name": "python",
   "nbconvert_exporter": "python",
   "pygments_lexer": "ipython3",
   "version": "3.11.6"
  }
 },
 "nbformat": 4,
 "nbformat_minor": 2
}
